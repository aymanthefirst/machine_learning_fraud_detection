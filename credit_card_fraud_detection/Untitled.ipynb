{
 "cells": [
  {
   "cell_type": "code",
   "execution_count": 12,
   "metadata": {},
   "outputs": [],
   "source": [
    "from tkinter import*\n",
    "import random\n",
    "import time;\n",
    "\n",
    "root = Tk()\n",
    "root.geometry(\"1600x800+0+0\")\n",
    "root.title(\"Restaurant Management Systems\")\n",
    "\n",
    "\n",
    "Tops = Frame(root, width = 1600,height = 50,bg=\"powder blue\", relief=SUNKEN)\n",
    "Tops.pack(side=TOP)\n",
    "\n",
    "\n",
    "\n",
    "\n",
    "\n",
    "lblInfo = Label(Tops, font=('arial', 50, 'bold'), text=\"Ayman's fraud detection system\", fg=\"steel blue\", bd=10, anchor='w')\n",
    "lblInfo.grid(row=0,column=0)\n",
    "\n",
    "\n",
    "root.mainloop()"
   ]
  }
 ],
 "metadata": {
  "kernelspec": {
   "display_name": "Python 3",
   "language": "python",
   "name": "python3"
  },
  "language_info": {
   "codemirror_mode": {
    "name": "ipython",
    "version": 3
   },
   "file_extension": ".py",
   "mimetype": "text/x-python",
   "name": "python",
   "nbconvert_exporter": "python",
   "pygments_lexer": "ipython3",
   "version": "3.7.0"
  }
 },
 "nbformat": 4,
 "nbformat_minor": 2
}
